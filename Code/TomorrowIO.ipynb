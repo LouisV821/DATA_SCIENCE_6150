{
 "cells": [
  {
   "cell_type": "code",
   "execution_count": null,
   "metadata": {},
   "outputs": [],
   "source": [
    "# DO NOT RUN THIS. I used this to get Tomorrow IO data using a private API key\n",
    "import requests\n",
    "import pandas as pd\n",
    "API_KEY = 'REDACTED'\n",
    "\n",
    "r = requests.get(f'https://api.tomorrow.io/v4/weather/forecast?location=42.3478,70.2568&apikey={API_KEY}')\n",
    "j = r.json()\n"
   ]
  },
  {
   "cell_type": "code",
   "execution_count": 2,
   "metadata": {},
   "outputs": [],
   "source": [
    "import json\n",
    "with open('..\\\\Data\\\\PortlandForcast.json', 'w', encoding='utf-8') as f:\n",
    "    json.dump(j, f, ensure_ascii=False, indent=4)"
   ]
  }
 ],
 "metadata": {
  "kernelspec": {
   "display_name": ".venv",
   "language": "python",
   "name": "python3"
  },
  "language_info": {
   "codemirror_mode": {
    "name": "ipython",
    "version": 3
   },
   "file_extension": ".py",
   "mimetype": "text/x-python",
   "name": "python",
   "nbconvert_exporter": "python",
   "pygments_lexer": "ipython3",
   "version": "3.12.0"
  }
 },
 "nbformat": 4,
 "nbformat_minor": 2
}
